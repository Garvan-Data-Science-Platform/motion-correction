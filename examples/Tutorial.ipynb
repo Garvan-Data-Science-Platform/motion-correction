{
 "cells": [
  {
   "cell_type": "code",
   "execution_count": null,
   "id": "b6468472",
   "metadata": {},
   "outputs": [],
   "source": [
    "#Install dependencies\n",
    "!pip install -U motion-correction ipywidgets\n",
    "#Or for gpu support (not supported on mac)\n",
    "#!pip install -U motion-correction[gpu] ipywidgets"
   ]
  },
  {
   "cell_type": "code",
   "execution_count": null,
   "id": "7629e3c9",
   "metadata": {
    "scrolled": true
   },
   "outputs": [],
   "source": [
    "# load packages\n",
    "\n",
    "from motion_correction.desktop.flim_aligner import *\n"
   ]
  },
  {
   "cell_type": "markdown",
   "id": "ec326a50",
   "metadata": {},
   "source": [
    "### Step 1. Construct a flim aligner object. \n",
    "Specifying the arguments of the flim aligner during construction will probably be supported in the future\n"
   ]
  },
  {
   "cell_type": "code",
   "execution_count": null,
   "id": "14282ca8",
   "metadata": {},
   "outputs": [],
   "source": [
    "flim_aligner = FlimAligner()"
   ]
  },
  {
   "cell_type": "markdown",
   "id": "42f42f68",
   "metadata": {},
   "source": [
    "### Step 2. Set the alignment method. \n",
    "\n",
    "Currently, the following methods are supported:\n",
    "\n",
    "**Global Methods**: Phase \\\n",
    "**Local Methods**: Morphic, OpticalPoly, OpticalTVL1, OpticalILK\n",
    "\n",
    "You can set the global_method or local_method to 'None' to only apply local or global correction."
   ]
  },
  {
   "cell_type": "code",
   "execution_count": null,
   "id": "69149f8c",
   "metadata": {},
   "outputs": [],
   "source": [
    "from motion_correction. algorithms import Phase, Morphic, OpticalPoly, OpticalILK, OpticalTVL1\n",
    "phase = Phase()\n",
    "morphic = Morphic(sigma_diff=20,radius=15)\n",
    "flim_aligner.set_methods(global_method=phase, local_method=morphic)"
   ]
  },
  {
   "cell_type": "markdown",
   "id": "b7cddc52",
   "metadata": {},
   "source": [
    "### Step 3. Set similarity metric\n",
    "Similarity metric will help to evaluate the correction performance. The following metrics are supported:\n",
    "**SimMetric.NCC**: Normalized Cross-Correction or Pearson Correlation \\\n",
    "**SimMetric.MSE**: Mean Square Error\\\n",
    "**SimMetric.NRM**: Normalized Root MSE\\\n",
    "**SimMetric.SSI**: Structure Similarity Index"
   ]
  },
  {
   "cell_type": "code",
   "execution_count": null,
   "id": "59d5e3c4",
   "metadata": {},
   "outputs": [],
   "source": [
    "flim_aligner.set_sim_metric(sim=SimMetric.MSE)"
   ]
  },
  {
   "cell_type": "code",
   "execution_count": null,
   "id": "116ac47e",
   "metadata": {},
   "outputs": [],
   "source": [
    "flim_aligner.set_channel(1)"
   ]
  },
  {
   "cell_type": "markdown",
   "id": "244d18a4",
   "metadata": {},
   "source": [
    "### Step 4. Apply correction based on intensity \n",
    "Apply correction based on the intensity images/frames from pt_file_path. After correction, the original and the corrected intensity images/frames are stored in ***flim_align.flim_frames*** and ***flim_align.flim_frames_corrected***, respectively. The transformation/correction matrix is stored in ***flim_align.transforms***."
   ]
  },
  {
   "cell_type": "code",
   "execution_count": null,
   "id": "688b36ed",
   "metadata": {},
   "outputs": [],
   "source": [
    "#name = \"02b pancreas 1000hz zoom=6 _10_1.pt3\"\n",
    "#pt_file_path = os.path.join(os.getcwd(), name)\n",
    "pt_file_path = \"/Users/tkallady/Downloads/RhoA ms881 intenstine 1000Hz unidirectional.pt3\"\n",
    "flim_aligner.apply_correction_intensity(pt_file_path)"
   ]
  },
  {
   "cell_type": "markdown",
   "id": "2f950060",
   "metadata": {},
   "source": [
    "### Step 5. Export visualization results\n",
    "You can export the intensity frames and accumulated intensity image as well as similarity plots to visualize the correction results. Optionally, you can specify the save_dir where the visualization results will be stored. By default, the results will stored in the 'save_dir' folder under the currect working directory."
   ]
  },
  {
   "cell_type": "code",
   "execution_count": null,
   "id": "90c514c6",
   "metadata": {},
   "outputs": [],
   "source": [
    "#Requires ffmpeg: https://support.audacityteam.org/basics/installing-ffmpeg\n",
    "flim_aligner.export_results(save_dir=None)"
   ]
  },
  {
   "cell_type": "code",
   "execution_count": null,
   "id": "150b57e6",
   "metadata": {},
   "outputs": [],
   "source": [
    "# Optionally, you can visualize the corrected data within notebook\n",
    "%matplotlib inline\n",
    "from motion_correction.desktop.utility import plot_sequence_images, display_images\n",
    "import matplotlib.pyplot as plt\n",
    "\n",
    "plot_sequence_images(flim_aligner.flim_frames.transpose(2, 1, 0))\n",
    "plot_sequence_images(flim_aligner.flim_frames_corrected.transpose(2, 1, 0))\n",
    "\n",
    "display_images([flim_aligner.flim_frames.sum(axis=-1), \n",
    "                flim_aligner.flim_frames_corrected.sum(axis=-1)])\n",
    "\n",
    "fig, axes = plt.subplots()\n",
    "axes.plot(flim_aligner.old_sim, label=\"original\")\n",
    "axes.plot(flim_aligner.new_sim, label=\"corrected\")\n",
    "axes.set_ylabel(flim_aligner.sim_metric)\n",
    "axes.set_xlabel('Frame')\n",
    "plt.legend(loc=\"best\")\n",
    "plt.show()"
   ]
  },
  {
   "cell_type": "markdown",
   "id": "a195dc46",
   "metadata": {},
   "source": [
    "### Step 6. Apply correction to raw flim data\n",
    "This step may take a few minutes as it involves reading the raw flim data into a sparse matrix, applying correction for all nanotimes data, and saving the corrected data into pt3 file. Note that due to the nature of correction, the corrected data is stored as floating values but converted into uint16 data type before saving to pt3 file. Apart from the pt3 file, the following three matrices might be of your further interest for downstream analyses:\n",
    "\n",
    "**Original histogramed data**: ***flim_aligner.curve_fit***\\\n",
    "**Corrected hitogramed data based on integer values**: ***flim_aligner.curve_fit_corrected_int***\\\n",
    "**Corrected hitogramed data based on integer values**: ***flim_aligner.curve_fit_corrected***"
   ]
  },
  {
   "cell_type": "code",
   "execution_count": null,
   "id": "a7510bfa",
   "metadata": {},
   "outputs": [],
   "source": [
    "flim_aligner.apply_correction_flim()"
   ]
  },
  {
   "cell_type": "code",
   "execution_count": null,
   "id": "bf69d182",
   "metadata": {},
   "outputs": [],
   "source": [
    "# Compare the histograms within a square block of blk_sz at (row_idx, col_idx) \n",
    "# Pay attention the range of y-axis for fair comparison. A larger y-axis range makes the curve look more smoother.\n",
    "%matplotlib inline\n",
    "col_idx = 105\n",
    "row_idx = 180\n",
    "blk_sz = 5\n",
    "fig, axes = plt.subplots(1, 3, figsize=(12, 4))\n",
    "axes[0].plot(flim_aligner.curve_fit[:, row_idx:row_idx+blk_sz, col_idx:col_idx+blk_sz].sum(axis=(1,2)))\n",
    "axes[0].set_title(\"original\")\n",
    "axes[1].plot(flim_aligner.curve_fit_corrected[:, row_idx:row_idx+blk_sz, col_idx:col_idx+blk_sz].sum(axis=(1,2)))\n",
    "axes[1].set_title(\"corrected\")\n",
    "axes[2].plot(flim_aligner.curve_fit_corrected_int[:, row_idx:row_idx+blk_sz, col_idx:col_idx+blk_sz].sum(axis=(1,2)))\n",
    "axes[2].set_title(\"corrected int\")\n",
    "plt.show()"
   ]
  },
  {
   "cell_type": "code",
   "execution_count": null,
   "id": "72b337de",
   "metadata": {
    "scrolled": true
   },
   "outputs": [],
   "source": [
    "# Use the following code to interactively inspect the decay curve data\n",
    "%matplotlib notebook\n",
    "\n",
    "class RectangularROI:\n",
    "    \n",
    "    def __init__(self, fig, decay_data, image_AX, decay_AX, decay_fig, tau_resolution):\n",
    "        self.fig = fig\n",
    "        self.decay_data     = decay_data\n",
    "        self.image_ax       = image_AX\n",
    "        self.ori_img = self.image_ax.get_array()\n",
    "        self.decay_ax       = decay_AX\n",
    "        self.decay_fig      = decay_fig\n",
    "        self.tau_resolution = tau_resolution\n",
    "        self.image_ax.figure.canvas.mpl_connect('button_press_event', self.on_press)\n",
    "        self.image_ax.figure.canvas.mpl_connect('button_release_event', self.on_release)\n",
    "        self.xs  = None\n",
    "        self.ys  = None\n",
    "    def on_press(self, event):\n",
    "        \n",
    "        self.x0 = event.xdata\n",
    "        self.y0 = event.ydata\n",
    "\n",
    "    def on_release(self, event):\n",
    "\n",
    "        self.x1 = event.xdata\n",
    "        self.y1 = event.ydata\n",
    "        self.x_indices = np.int_(np.ceil(np.abs(np.sort(np.array([self.x1,self.x0]))))) # [x1, x2]\n",
    "        self.y_indices = np.int_(np.ceil(np.abs(np.sort(np.array([self.y0,self.y1]))))) # [y1, y2]\n",
    "        self.ys = np.sum(self.decay_data[self.y_indices[0]:self.y_indices[1], self.x_indices[0]:self.x_indices[1],:], axis=0)\n",
    "        self.ys = np.sum(self.ys, axis = 0)\n",
    "        self.xs = np.linspace(0, decay_data.shape[2], decay_data.shape[2], \n",
    "                              dtype = np.int)*self.tau_resolution\n",
    "        self.decay_ax.set_data(self.xs, self.ys)\n",
    "        self.decay_fig.set_ylim(ymin = 0, ymax = np.max(self.ys)*10)\n",
    "#         self.decay_ax.fig.canvas.draw()\n",
    "        self.shown_img = self.ori_img.copy()\n",
    "        self.shown_img[self.y_indices[0], self.x_indices[0]:self.x_indices[1]] = 1000\n",
    "        self.shown_img[self.y_indices[1], self.x_indices[0]:self.x_indices[1]] = 1000\n",
    "        self.shown_img[self.y_indices[0]:self.y_indices[1], self.x_indices[0]] = 1000\n",
    "        self.shown_img[self.y_indices[0]:self.y_indices[1], self.x_indices[1]] = 1000\n",
    "        self.image_ax.set_array(self.shown_img)\n",
    "        self.fig.redraw()\n",
    "        \n",
    "\n",
    "intensity_image = flim_aligner.flim_frames_corrected.sum(axis=-1)  \n",
    "decay_data = flim_aligner.curve_fit_corrected.transpose((1, 2, 0))     \n",
    "tau_resolution = 1.0\n",
    "\n",
    "fig = plt.figure(figsize=(9, 4))\n",
    "\n",
    "image_ax = fig.add_subplot(121)\n",
    "image_AX = image_ax.imshow(intensity_image, cmap=\"viridis\") \n",
    "fig.colorbar(image_AX)\n",
    "image_ax.set_aspect('auto')\n",
    "plt.title('Draw a rectangle on intensity image')\n",
    "\n",
    "# Plot decay here\n",
    "# default decay data Pixel (0,0)\n",
    "plot_decay_data = decay_data[0,0,:]\n",
    "tau = np.linspace(0, decay_data.shape[2], decay_data.shape[2], dtype = np.int)*tau_resolution\n",
    "decay_fig = fig.add_subplot(122)\n",
    "decay_AX, = decay_fig.plot(tau, plot_decay_data, 'k-', label='Selected ROI Histogram', linewidth=1)\n",
    "plt.yscale(value=\"log\")\n",
    "#plt.autoscale(enable=True, axis=1)\n",
    "plt.axis([0, np.max(tau), 0, np.max(plot_decay_data)*10])\n",
    "plt.xlabel('Time [ns]')\n",
    "plt.ylabel('Intensity [counts]')\n",
    "plt.title('TCSPC Decay')\n",
    "plt.grid(True)\n",
    "plt.legend()\n",
    "\n",
    "plt.sca(decay_fig)\n",
    "linebuilder = RectangularROI(fig, decay_data,image_AX,decay_AX,decay_fig,tau_resolution)\n",
    "plt.tight_layout()\n",
    "plt.show()"
   ]
  },
  {
   "cell_type": "code",
   "execution_count": null,
   "id": "864dbaa7",
   "metadata": {},
   "outputs": [],
   "source": []
  }
 ],
 "metadata": {
  "kernelspec": {
   "display_name": "Python 3 (ipykernel)",
   "language": "python",
   "name": "python3"
  },
  "language_info": {
   "codemirror_mode": {
    "name": "ipython",
    "version": 3
   },
   "file_extension": ".py",
   "mimetype": "text/x-python",
   "name": "python",
   "nbconvert_exporter": "python",
   "pygments_lexer": "ipython3",
   "version": "3.10.12"
  }
 },
 "nbformat": 4,
 "nbformat_minor": 5
}
